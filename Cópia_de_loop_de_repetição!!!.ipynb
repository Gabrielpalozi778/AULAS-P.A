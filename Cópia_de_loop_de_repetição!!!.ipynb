{
  "nbformat": 4,
  "nbformat_minor": 0,
  "metadata": {
    "colab": {
      "provenance": [],
      "authorship_tag": "ABX9TyOrfL9ptvpwqnWiFjLt9N60",
      "include_colab_link": true
    },
    "kernelspec": {
      "name": "python3",
      "display_name": "Python 3"
    },
    "language_info": {
      "name": "python"
    }
  },
  "cells": [
    {
      "cell_type": "markdown",
      "metadata": {
        "id": "view-in-github",
        "colab_type": "text"
      },
      "source": [
        "<a href=\"https://colab.research.google.com/github/Gabrielpalozi778/AULAS-P.A/blob/main/C%C3%B3pia_de_loop_de_repeti%C3%A7%C3%A3o!!!.ipynb\" target=\"_parent\"><img src=\"https://colab.research.google.com/assets/colab-badge.svg\" alt=\"Open In Colab\"/></a>"
      ]
    },
    {
      "cell_type": "code",
      "source": [
        "#números ímpares\n",
        "for i in range(1,31):\n",
        "  if i%2 == 1:\n",
        "    print(i)\n",
        "\n",
        "\n",
        "\n",
        "\n"
      ],
      "metadata": {
        "id": "Jwpb6xbNYffW"
      },
      "execution_count": null,
      "outputs": []
    },
    {
      "cell_type": "code",
      "source": [
        "#contador de um número inicial e final digitado pelo úsuario.\n",
        "\n",
        "x = int(input(\"digite o número inicial: \"))\n",
        "\n",
        "z = int(input(\"digite o número final: \"))\n",
        "\n",
        "y = 8\n",
        "\n",
        "if (x) > (z):\n",
        "   x == y\n",
        "   z == x\n",
        "   x == z\n",
        "\n",
        "\n",
        "\n",
        "\n",
        "for i in range(x,z):\n",
        "  print(i)"
      ],
      "metadata": {
        "colab": {
          "base_uri": "https://localhost:8080/"
        },
        "id": "aAJKeYf4cXjt",
        "outputId": "e0963631-1cb8-4fd8-ae0d-d39784969693"
      },
      "execution_count": null,
      "outputs": [
        {
          "name": "stdout",
          "output_type": "stream",
          "text": [
            "digite o número inicial: 10\n",
            "digite o número final: 1\n"
          ]
        }
      ]
    },
    {
      "cell_type": "code",
      "source": [
        "# sobre todos os números de 1 a 10\n",
        "\n",
        "soma = 0\n",
        "\n",
        "\n",
        "for i in range(1,11):\n",
        " soma = soma + i\n",
        "\n",
        " print(\"total =>\",soma)\n",
        "\n",
        "\n"
      ],
      "metadata": {
        "id": "Qzyh5NCUjfJc"
      },
      "execution_count": null,
      "outputs": []
    },
    {
      "cell_type": "code",
      "source": [
        "#soma de todos impares de 1 a 100\n",
        "soma = 0\n",
        "for num in range(1,101):\n",
        "  soma += num\n",
        "  if i%2 == 1:\n",
        "      print(\"total =>\",soma)\n"
      ],
      "metadata": {
        "id": "CWcapZL2lL-f"
      },
      "execution_count": null,
      "outputs": []
    },
    {
      "cell_type": "code",
      "source": [
        "#numero ate usuario digitar 0\n",
        "while True:\n",
        "\n",
        "   dig_0 = int(input(\"digite 0: \"))\n",
        "\n",
        "   if dig_0 != 0:\n",
        "    continue\n",
        "   else:\n",
        "    print(\"ok\")\n",
        "   break"
      ],
      "metadata": {
        "colab": {
          "base_uri": "https://localhost:8080/"
        },
        "id": "5pDX2ZX0nsE4",
        "outputId": "0a1fadda-2ff3-4151-ce80-91b02d722b56"
      },
      "execution_count": null,
      "outputs": [
        {
          "output_type": "stream",
          "name": "stdout",
          "text": [
            "digite 0: 6\n",
            "digite 0: 6\n",
            "digite 0: 6\n",
            "digite 0: 0\n",
            "ok\n"
          ]
        }
      ]
    },
    {
      "cell_type": "code",
      "source": [
        "#numero ate usuario digitar 0 FORMULA DO PROFESSOR\n",
        "\n",
        "numero = int(input(\"digite 0\"))\n",
        "\n",
        "while numero != 0:\n",
        "  numero = int(input(\"digite 0\"))\n",
        "  continue\n",
        "\n",
        "\n"
      ],
      "metadata": {
        "id": "U7UBxbjOql_V"
      },
      "execution_count": null,
      "outputs": []
    },
    {
      "cell_type": "code",
      "source": [
        "#contador de 1 a 10  com while\n",
        "\n",
        "abacate = 0\n",
        "while abacate < 10:\n",
        "    abacate2 = abacate + 1\n",
        "    print(abacate2 + 1)\n",
        "\n",
        "    continue\n",
        "\n",
        "\n",
        "\n",
        "\n",
        "\n"
      ],
      "metadata": {
        "id": "3Oh3ewSUob5E"
      },
      "execution_count": null,
      "outputs": []
    },
    {
      "cell_type": "code",
      "source": [
        "# soma dos números até o zero\n",
        "numero = int(input(\"digite 0:\"))\n",
        "soma = numero\n",
        "while numero != 0:\n",
        "  numero = int(input(\"digite 0: \"))\n",
        "  soma += numero\n",
        "  continue\n",
        "\n",
        "if numero == 0:\n",
        "  print(\"total =>\",soma)\n"
      ],
      "metadata": {
        "id": "QmafKI12xPVp"
      },
      "execution_count": null,
      "outputs": []
    },
    {
      "cell_type": "code",
      "source": [
        "#menu de opções\n",
        "\n",
        "lista = [1 , 2 , 3 , 4]\n",
        "\n",
        "print(\"ESCOLHA UMA OPÇÃO\")\n",
        "print(\"ESCOLHA 1 PARA OPÇÃO 1\")\n",
        "print(\"ESCOLHA 2 PARA OPÇÃO 2\")\n",
        "print(\"ESCOLHA 3 PARA OPÇÃO 3\")\n",
        "print(\"ESCOLHA 4 PARA sair\")\n",
        "\n",
        "while True:\n",
        " aaa = (input(\"digite sua opção\"))\n",
        "\n",
        " if aaa is not (lista):\n",
        "   print(\"por favor escreva algo correto.\")\n",
        "   continue\n",
        "\n",
        "if aaa == (4):\n",
        "  print(\"programa finalizado com sucesso!\")\n",
        "  quit()\n",
        "\n",
        "if aaa == (3):\n",
        "  print(\"voce entrou na opção 3!\")\n",
        "\n",
        "\n",
        "if aaa == (2):\n",
        "  print(\"voce entrou na opção 2!\")\n",
        "\n",
        "\n",
        "if aaa == (1):\n",
        "  print(\"voce entrou na opção 1!\")\n",
        "\n",
        "\n",
        "\n",
        "\n",
        "\n"
      ],
      "metadata": {
        "colab": {
          "base_uri": "https://localhost:8080/"
        },
        "id": "XYOIATEBxlPH",
        "outputId": "affcb1d8-4e21-4df1-b4a4-45e3175d79dc"
      },
      "execution_count": null,
      "outputs": [
        {
          "output_type": "stream",
          "name": "stdout",
          "text": [
            "ESCOLHA UMA OPÇÃO\n",
            "ESCOLHA 1 PARA OPÇÃO 1\n",
            "ESCOLHA 2 PARA OPÇÃO 2\n",
            "ESCOLHA 3 PARA OPÇÃO 3\n",
            "ESCOLHA 4 PARA sair\n",
            "digite sua opção4\n",
            "por favor escreva algo correto.\n",
            "digite sua opção4\n",
            "por favor escreva algo correto.\n"
          ]
        }
      ]
    },
    {
      "cell_type": "code",
      "source": [
        "lista = [\"1\",\"2\",\"3\",\"4\"]\n",
        "\n",
        "\n",
        "print(lista[1])"
      ],
      "metadata": {
        "colab": {
          "base_uri": "https://localhost:8080/"
        },
        "id": "rY0wJ2Ni0sBC",
        "outputId": "3fcb1fdc-6303-4804-ed54-2d09225f7195"
      },
      "execution_count": null,
      "outputs": [
        {
          "output_type": "stream",
          "name": "stdout",
          "text": [
            "2\n"
          ]
        }
      ]
    }
  ]
}