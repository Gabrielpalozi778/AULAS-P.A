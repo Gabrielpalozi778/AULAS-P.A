{
  "nbformat": 4,
  "nbformat_minor": 0,
  "metadata": {
    "colab": {
      "provenance": [],
      "authorship_tag": "ABX9TyPU1uxqvOUEOtU+1qleW3RH",
      "include_colab_link": true
    },
    "kernelspec": {
      "name": "python3",
      "display_name": "Python 3"
    },
    "language_info": {
      "name": "python"
    }
  },
  "cells": [
    {
      "cell_type": "markdown",
      "metadata": {
        "id": "view-in-github",
        "colab_type": "text"
      },
      "source": [
        "<a href=\"https://colab.research.google.com/github/Gabrielpalozi778/AULAS-P.A/blob/main/TRIANGULO_MAGICO.ipynb\" target=\"_parent\"><img src=\"https://colab.research.google.com/assets/colab-badge.svg\" alt=\"Open In Colab\"/></a>"
      ]
    },
    {
      "cell_type": "markdown",
      "source": [
        "# *OBTENDO INFORMAÇOES*"
      ],
      "metadata": {
        "id": "TT_RSQhaScnw"
      }
    },
    {
      "cell_type": "code",
      "execution_count": 47,
      "metadata": {
        "colab": {
          "base_uri": "https://localhost:8080/"
        },
        "id": "_CZLwwQNSbp_",
        "outputId": "885d5747-5896-4d52-d3c1-59f99b6c6a85"
      },
      "outputs": [
        {
          "name": "stdout",
          "output_type": "stream",
          "text": [
            "digite a medida do triangulo:7\n",
            "digite a medida do triangulo:8\n",
            "digite a medida do triangulo:9\n"
          ]
        }
      ],
      "source": [
        "a = float(input(\"digite a medida do triangulo:\"))\n",
        "b = float(input(\"digite a medida do triangulo:\"))\n",
        "c = float(input(\"digite a medida do triangulo:\"))\n",
        "\n",
        "\n"
      ]
    },
    {
      "cell_type": "markdown",
      "source": [
        "# VERIFICAÇÃO DO ***TRIANGULO***"
      ],
      "metadata": {
        "id": "g0OKCroGTJPN"
      }
    },
    {
      "cell_type": "code",
      "source": [
        "triangulo = ((a < b + c)) and ((b < a + c )) and ((c < a + b ))\n",
        "\n",
        "triangulo"
      ],
      "metadata": {
        "colab": {
          "base_uri": "https://localhost:8080/"
        },
        "id": "HTzfClS3SqCb",
        "outputId": "e5c02ef2-c99a-4495-ffa5-97df58b7bcc8"
      },
      "execution_count": 48,
      "outputs": [
        {
          "output_type": "execute_result",
          "data": {
            "text/plain": [
              "True"
            ]
          },
          "metadata": {},
          "execution_count": 48
        }
      ]
    },
    {
      "cell_type": "markdown",
      "source": [
        "# ***EQUILÁTERO:***"
      ],
      "metadata": {
        "id": "_3n6egpVUJPC"
      }
    },
    {
      "cell_type": "code",
      "source": [
        "equilatero = ((a == b)) and ((b == c)) and (triangulo)\n",
        "\n",
        "equilatero"
      ],
      "metadata": {
        "colab": {
          "base_uri": "https://localhost:8080/"
        },
        "id": "nHTELy37UM4M",
        "outputId": "1f5c0b41-f510-4535-dfe7-205788b30d62"
      },
      "execution_count": 49,
      "outputs": [
        {
          "output_type": "execute_result",
          "data": {
            "text/plain": [
              "False"
            ]
          },
          "metadata": {},
          "execution_count": 49
        }
      ]
    },
    {
      "cell_type": "markdown",
      "source": [
        "# ***ISÓSCELES***"
      ],
      "metadata": {
        "id": "57N8i1ZDU8G1"
      }
    },
    {
      "cell_type": "code",
      "source": [
        "isosceles = ((a == b > c))  ^  (( c == a > b))\n",
        "\n",
        "isosceles"
      ],
      "metadata": {
        "colab": {
          "base_uri": "https://localhost:8080/"
        },
        "id": "tsygPWdSVBuS",
        "outputId": "b63d7311-db5c-4489-ba10-96abd82611ef"
      },
      "execution_count": 50,
      "outputs": [
        {
          "output_type": "execute_result",
          "data": {
            "text/plain": [
              "False"
            ]
          },
          "metadata": {},
          "execution_count": 50
        }
      ]
    },
    {
      "cell_type": "markdown",
      "source": [
        "# ***ESCALENO***"
      ],
      "metadata": {
        "id": "HG2eYSHbWgPJ"
      }
    },
    {
      "cell_type": "code",
      "source": [
        "escaleno = (a != b) and (a != c) and (b != c) and (triangulo)\n",
        "\n",
        "escaleno"
      ],
      "metadata": {
        "colab": {
          "base_uri": "https://localhost:8080/"
        },
        "id": "sWmyRaL8Wfld",
        "outputId": "5caac2f0-6eb4-4aa8-ddff-de488ac9651b"
      },
      "execution_count": 52,
      "outputs": [
        {
          "output_type": "execute_result",
          "data": {
            "text/plain": [
              "True"
            ]
          },
          "metadata": {},
          "execution_count": 52
        }
      ]
    }
  ]
}